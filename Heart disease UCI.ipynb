import pandas as pd
import numpy as np
import csv

# Define df
df = pd.read_csv("Heart Disease UCI.csv")
df.head()

# Dropping columns
to_drop = ['cp', 'fbs', 'restecg', 'thalach', 'exang', 'oldpeak', 'slope', 'thal', 'target', 'ca']
df.drop(to_drop, inplace = True, axis = 1)
df.head(5)

# Renaming the columns
new_name = {'age':'Age', 'sex':'Sex', 'trestbps':'Bps', 'chol': 'Cholesterol'}
df.rename(columns = new_name, inplace = True)
df.head()

# Replacing missing or null values of the rows
replace_values = {0:'F', 1:'M'}
df = df.replace({"Sex": replace_values})
df.head()
